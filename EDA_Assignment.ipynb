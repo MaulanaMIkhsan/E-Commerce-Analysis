{
 "cells": [
  {
   "cell_type": "markdown",
   "id": "f1c2970e",
   "metadata": {},
   "source": [
    "# Proyek Analisis Data: E-Commerce Public"
   ]
  },
  {
   "cell_type": "markdown",
   "id": "baec63ae",
   "metadata": {},
   "source": [
    "- Maulana Muhammad Ikhsan\n",
    "- maulanamuhammadikh@gmail.com\n",
    "- ixsannnnnn"
   ]
  },
  {
   "cell_type": "markdown",
   "id": "19403555",
   "metadata": {},
   "source": [
    "# Pertanyaan Bisnis"
   ]
  },
  {
   "cell_type": "markdown",
   "id": "738bc8f8",
   "metadata": {},
   "source": [
    "- Kota mana yang masuk ke dalam 10 peringkat teratas penjualan (2016-2018)?\n",
    "- Dari seluruh produk yang dijual, manakah yang paling menguntungkan pada tahun 2018?\n",
    "- Growth penjualan perbulan tahun 2017?"
   ]
  },
  {
   "cell_type": "markdown",
   "id": "0a2b81c5",
   "metadata": {},
   "source": [
    "# Import Semua Packages/Library yang Digunakan"
   ]
  },
  {
   "cell_type": "code",
   "execution_count": null,
   "id": "7acbc2a1",
   "metadata": {},
   "outputs": [],
   "source": [
    "# Import libraries/packages yang diperlukan\n",
    "import pandas as pd\n",
    "import numpy as np\n",
    "import matplotlib.pyplot as plt\n",
    "import seaborn as sns\n",
    "import os\n",
    "import calendar"
   ]
  },
  {
   "cell_type": "markdown",
   "id": "328e6814",
   "metadata": {},
   "source": [
    "# Data Wrangling"
   ]
  },
  {
   "cell_type": "markdown",
   "id": "151ebe9d",
   "metadata": {},
   "source": [
    "### Gathering Data"
   ]
  },
  {
   "cell_type": "code",
   "execution_count": 3,
   "id": "28375a98",
   "metadata": {},
   "outputs": [],
   "source": [
    "# Import semua files csv yang akan digunakan\n",
    "customer_data = pd.read_csv('Data/customers_dataset.csv')\n",
    "geo_data = pd.read_csv('Data/geolocation_dataset.csv')\n",
    "items_data = pd.read_csv('Data/order_items_dataset.csv')\n",
    "order_pay_data = pd.read_csv('Data/order_payments_dataset.csv')\n",
    "order_review_data = pd.read_csv('Data/order_reviews_dataset.csv')\n",
    "orders_data = pd.read_csv('Data/orders_dataset.csv')\n",
    "category_data = pd.read_csv('Data/product_category_name_translation.csv')\n",
    "products_data = pd.read_csv('Data/products_dataset.csv')\n",
    "sellers_data = pd.read_csv('Data/sellers_dataset.csv')"
   ]
  },
  {
   "cell_type": "code",
   "execution_count": 3,
   "id": "5f30a0a4",
   "metadata": {},
   "outputs": [
    {
     "data": {
      "text/plain": [
       "(                        customer_id                customer_unique_id  \\\n",
       " 0  06b8999e2fba1a1fbc88172c00ba8bc7  861eff4711a542e4b93843c6dd7febb0   \n",
       " 1  18955e83d337fd6b2def6b18a428ac77  290c77bc529b7ac935b93aa66c333dc3   \n",
       " 2  4e7b3e00288586ebd08712fdd0374a03  060e732b5b29e8181a18229c7b0b2b5e   \n",
       " \n",
       "    customer_zip_code_prefix          customer_city customer_state  \n",
       " 0                     14409                 franca             SP  \n",
       " 1                      9790  sao bernardo do campo             SP  \n",
       " 2                      1151              sao paulo             SP  ,\n",
       "    geolocation_zip_code_prefix  geolocation_lat  geolocation_lng  \\\n",
       " 0                         1037       -23.545621       -46.639292   \n",
       " 1                         1046       -23.546081       -46.644820   \n",
       " 2                         1046       -23.546129       -46.642951   \n",
       " \n",
       "   geolocation_city geolocation_state  \n",
       " 0        sao paulo                SP  \n",
       " 1        sao paulo                SP  \n",
       " 2        sao paulo                SP  ,\n",
       "                            order_id  order_item_id  \\\n",
       " 0  00010242fe8c5a6d1ba2dd792cb16214              1   \n",
       " 1  00018f77f2f0320c557190d7a144bdd3              1   \n",
       " 2  000229ec398224ef6ca0657da4fc703e              1   \n",
       " \n",
       "                          product_id                         seller_id  \\\n",
       " 0  4244733e06e7ecb4970a6e2683c13e61  48436dade18ac8b2bce089ec2a041202   \n",
       " 1  e5f2d52b802189ee658865ca93d83a8f  dd7ddc04e1b6c2c614352b383efe2d36   \n",
       " 2  c777355d18b72b67abbeef9df44fd0fd  5b51032eddd242adc84c38acab88f23d   \n",
       " \n",
       "    shipping_limit_date  price  freight_value  \n",
       " 0  2017-09-19 09:45:35   58.9          13.29  \n",
       " 1  2017-05-03 11:05:13  239.9          19.93  \n",
       " 2  2018-01-18 14:48:30  199.0          17.87  ,\n",
       "                            order_id  payment_sequential payment_type  \\\n",
       " 0  b81ef226f3fe1789b1e8b2acac839d17                   1  credit_card   \n",
       " 1  a9810da82917af2d9aefd1278f1dcfa0                   1  credit_card   \n",
       " 2  25e8ea4e93396b6fa0d3dd708e76c1bd                   1  credit_card   \n",
       " \n",
       "    payment_installments  payment_value  \n",
       " 0                     8          99.33  \n",
       " 1                     1          24.39  \n",
       " 2                     1          65.71  ,\n",
       "                           review_id                          order_id  \\\n",
       " 0  7bc2406110b926393aa56f80a40eba40  73fc7af87114b39712e6da79b0a377eb   \n",
       " 1  80e641a11e56f04c1ad469d5645fdfde  a548910a1c6147796b98fdf73dbeba33   \n",
       " 2  228ce5500dc1d8e020d8d1322874b6f0  f9e4b658b201a9f2ecdecbb34bed034b   \n",
       " \n",
       "    review_score review_comment_title review_comment_message  \\\n",
       " 0             4                  NaN                    NaN   \n",
       " 1             5                  NaN                    NaN   \n",
       " 2             5                  NaN                    NaN   \n",
       " \n",
       "   review_creation_date review_answer_timestamp  \n",
       " 0  2018-01-18 00:00:00     2018-01-18 21:46:59  \n",
       " 1  2018-03-10 00:00:00     2018-03-11 03:05:13  \n",
       " 2  2018-02-17 00:00:00     2018-02-18 14:36:24  ,\n",
       "                            order_id                       customer_id  \\\n",
       " 0  e481f51cbdc54678b7cc49136f2d6af7  9ef432eb6251297304e76186b10a928d   \n",
       " 1  53cdb2fc8bc7dce0b6741e2150273451  b0830fb4747a6c6d20dea0b8c802d7ef   \n",
       " 2  47770eb9100c2d0c44946d9cf07ec65d  41ce2a54c0b03bf3443c3d931a367089   \n",
       " \n",
       "   order_status order_purchase_timestamp    order_approved_at  \\\n",
       " 0    delivered      2017-10-02 10:56:33  2017-10-02 11:07:15   \n",
       " 1    delivered      2018-07-24 20:41:37  2018-07-26 03:24:27   \n",
       " 2    delivered      2018-08-08 08:38:49  2018-08-08 08:55:23   \n",
       " \n",
       "   order_delivered_carrier_date order_delivered_customer_date  \\\n",
       " 0          2017-10-04 19:55:00           2017-10-10 21:25:13   \n",
       " 1          2018-07-26 14:31:00           2018-08-07 15:27:45   \n",
       " 2          2018-08-08 13:50:00           2018-08-17 18:06:29   \n",
       " \n",
       "   order_estimated_delivery_date  \n",
       " 0           2017-10-18 00:00:00  \n",
       " 1           2018-08-13 00:00:00  \n",
       " 2           2018-09-04 00:00:00  ,\n",
       "     product_category_name product_category_name_english\n",
       " 0            beleza_saude                 health_beauty\n",
       " 1  informatica_acessorios         computers_accessories\n",
       " 2              automotivo                          auto,\n",
       "                          product_id product_category_name  \\\n",
       " 0  1e9e8ef04dbcff4541ed26657ea517e5            perfumaria   \n",
       " 1  3aa071139cb16b67ca9e5dea641aaa2f                 artes   \n",
       " 2  96bd76ec8810374ed1b65e291975717f         esporte_lazer   \n",
       " \n",
       "    product_name_lenght  product_description_lenght  product_photos_qty  \\\n",
       " 0                 40.0                       287.0                 1.0   \n",
       " 1                 44.0                       276.0                 1.0   \n",
       " 2                 46.0                       250.0                 1.0   \n",
       " \n",
       "    product_weight_g  product_length_cm  product_height_cm  product_width_cm  \n",
       " 0             225.0               16.0               10.0              14.0  \n",
       " 1            1000.0               30.0               18.0              20.0  \n",
       " 2             154.0               18.0                9.0              15.0  ,\n",
       "                           seller_id  seller_zip_code_prefix     seller_city  \\\n",
       " 0  3442f8959a84dea7ee197c632cb2df15                   13023        campinas   \n",
       " 1  d1b65fc7debc3361ea86b5f14c68d2e2                   13844      mogi guacu   \n",
       " 2  ce3ad9de960102d0677a81f5d0bb7b2d                   20031  rio de janeiro   \n",
       " \n",
       "   seller_state  \n",
       " 0           SP  \n",
       " 1           SP  \n",
       " 2           RJ  )"
      ]
     },
     "execution_count": 3,
     "metadata": {},
     "output_type": "execute_result"
    }
   ],
   "source": [
    "# Melihat beberapa data yang sudah diimport\n",
    "customer_data.head(3), geo_data.head(3), items_data.head(3), order_pay_data.head(3), order_review_data.head(3), orders_data.head(3), category_data.head(3), products_data.head(3), sellers_data.head(3)"
   ]
  },
  {
   "cell_type": "code",
   "execution_count": 4,
   "id": "fb7f722c",
   "metadata": {},
   "outputs": [
    {
     "name": "stdout",
     "output_type": "stream",
     "text": [
      "(119143, 39)\n"
     ]
    }
   ],
   "source": [
    "# Menggabungkan data menjadi satu dataframe besar\n",
    "ecommerce_data = orders_data.merge(items_data, on='order_id', how='left')\n",
    "ecommerce_data = ecommerce_data.merge(order_pay_data, on='order_id', how='outer', validate='m:m')\n",
    "ecommerce_data = ecommerce_data.merge(order_review_data, on='order_id', how='outer')\n",
    "ecommerce_data = ecommerce_data.merge(products_data, on='product_id', how='outer')\n",
    "ecommerce_data = ecommerce_data.merge(customer_data, on='customer_id', how='outer')\n",
    "ecommerce_data = ecommerce_data.merge(sellers_data, on='seller_id', how='outer')\n",
    "\n",
    "print(ecommerce_data.shape)"
   ]
  },
  {
   "cell_type": "markdown",
   "id": "76164c57",
   "metadata": {},
   "source": [
    "Insight:\n",
    "   - Import semua files yang terdapat pada e-commerce public dataset.\n",
    "   - Setelah itu, menggunakan .head() untuk melihat kolom mana saja yang dapat kita merge/join.\n",
    "   - Melakukan penggabungan seluruh data menjadi satu data frame yang dapat digunakan."
   ]
  },
  {
   "cell_type": "markdown",
   "id": "393b8ab4",
   "metadata": {},
   "source": [
    "### Assesing Data"
   ]
  },
  {
   "cell_type": "code",
   "execution_count": 5,
   "id": "89ebb1b2",
   "metadata": {},
   "outputs": [
    {
     "name": "stdout",
     "output_type": "stream",
     "text": [
      "<class 'pandas.core.frame.DataFrame'>\n",
      "RangeIndex: 119143 entries, 0 to 119142\n",
      "Data columns (total 39 columns):\n",
      " #   Column                         Non-Null Count   Dtype  \n",
      "---  ------                         --------------   -----  \n",
      " 0   order_id                       119143 non-null  object \n",
      " 1   customer_id                    119143 non-null  object \n",
      " 2   order_status                   119143 non-null  object \n",
      " 3   order_purchase_timestamp       119143 non-null  object \n",
      " 4   order_approved_at              118966 non-null  object \n",
      " 5   order_delivered_carrier_date   117057 non-null  object \n",
      " 6   order_delivered_customer_date  115722 non-null  object \n",
      " 7   order_estimated_delivery_date  119143 non-null  object \n",
      " 8   order_item_id                  118310 non-null  float64\n",
      " 9   product_id                     118310 non-null  object \n",
      " 10  seller_id                      118310 non-null  object \n",
      " 11  shipping_limit_date            118310 non-null  object \n",
      " 12  price                          118310 non-null  float64\n",
      " 13  freight_value                  118310 non-null  float64\n",
      " 14  payment_sequential             119140 non-null  float64\n",
      " 15  payment_type                   119140 non-null  object \n",
      " 16  payment_installments           119140 non-null  float64\n",
      " 17  payment_value                  119140 non-null  float64\n",
      " 18  review_id                      118146 non-null  object \n",
      " 19  review_score                   118146 non-null  float64\n",
      " 20  review_comment_title           13989 non-null   object \n",
      " 21  review_comment_message         50245 non-null   object \n",
      " 22  review_creation_date           118146 non-null  object \n",
      " 23  review_answer_timestamp        118146 non-null  object \n",
      " 24  product_category_name          116601 non-null  object \n",
      " 25  product_name_lenght            116601 non-null  float64\n",
      " 26  product_description_lenght     116601 non-null  float64\n",
      " 27  product_photos_qty             116601 non-null  float64\n",
      " 28  product_weight_g               118290 non-null  float64\n",
      " 29  product_length_cm              118290 non-null  float64\n",
      " 30  product_height_cm              118290 non-null  float64\n",
      " 31  product_width_cm               118290 non-null  float64\n",
      " 32  customer_unique_id             119143 non-null  object \n",
      " 33  customer_zip_code_prefix       119143 non-null  int64  \n",
      " 34  customer_city                  119143 non-null  object \n",
      " 35  customer_state                 119143 non-null  object \n",
      " 36  seller_zip_code_prefix         118310 non-null  float64\n",
      " 37  seller_city                    118310 non-null  object \n",
      " 38  seller_state                   118310 non-null  object \n",
      "dtypes: float64(15), int64(1), object(23)\n",
      "memory usage: 35.5+ MB\n"
     ]
    },
    {
     "data": {
      "text/html": [
       "<div>\n",
       "<style scoped>\n",
       "    .dataframe tbody tr th:only-of-type {\n",
       "        vertical-align: middle;\n",
       "    }\n",
       "\n",
       "    .dataframe tbody tr th {\n",
       "        vertical-align: top;\n",
       "    }\n",
       "\n",
       "    .dataframe thead th {\n",
       "        text-align: right;\n",
       "    }\n",
       "</style>\n",
       "<table border=\"1\" class=\"dataframe\">\n",
       "  <thead>\n",
       "    <tr style=\"text-align: right;\">\n",
       "      <th></th>\n",
       "      <th>order_item_id</th>\n",
       "      <th>price</th>\n",
       "      <th>freight_value</th>\n",
       "      <th>payment_sequential</th>\n",
       "      <th>payment_installments</th>\n",
       "      <th>payment_value</th>\n",
       "      <th>review_score</th>\n",
       "      <th>product_name_lenght</th>\n",
       "      <th>product_description_lenght</th>\n",
       "      <th>product_photos_qty</th>\n",
       "      <th>product_weight_g</th>\n",
       "      <th>product_length_cm</th>\n",
       "      <th>product_height_cm</th>\n",
       "      <th>product_width_cm</th>\n",
       "      <th>customer_zip_code_prefix</th>\n",
       "      <th>seller_zip_code_prefix</th>\n",
       "    </tr>\n",
       "  </thead>\n",
       "  <tbody>\n",
       "    <tr>\n",
       "      <th>count</th>\n",
       "      <td>118310.000000</td>\n",
       "      <td>118310.000000</td>\n",
       "      <td>118310.000000</td>\n",
       "      <td>119140.000000</td>\n",
       "      <td>119140.000000</td>\n",
       "      <td>119140.000000</td>\n",
       "      <td>118146.000000</td>\n",
       "      <td>116601.000000</td>\n",
       "      <td>116601.000000</td>\n",
       "      <td>116601.000000</td>\n",
       "      <td>118290.000000</td>\n",
       "      <td>118290.000000</td>\n",
       "      <td>118290.000000</td>\n",
       "      <td>118290.000000</td>\n",
       "      <td>119143.000000</td>\n",
       "      <td>118310.000000</td>\n",
       "    </tr>\n",
       "    <tr>\n",
       "      <th>mean</th>\n",
       "      <td>1.196543</td>\n",
       "      <td>120.646603</td>\n",
       "      <td>20.032387</td>\n",
       "      <td>1.094737</td>\n",
       "      <td>2.941246</td>\n",
       "      <td>172.735135</td>\n",
       "      <td>4.015582</td>\n",
       "      <td>48.767498</td>\n",
       "      <td>785.967822</td>\n",
       "      <td>2.205161</td>\n",
       "      <td>2112.250740</td>\n",
       "      <td>30.265145</td>\n",
       "      <td>16.619706</td>\n",
       "      <td>23.074799</td>\n",
       "      <td>35033.451298</td>\n",
       "      <td>24442.410413</td>\n",
       "    </tr>\n",
       "    <tr>\n",
       "      <th>std</th>\n",
       "      <td>0.699489</td>\n",
       "      <td>184.109691</td>\n",
       "      <td>15.836850</td>\n",
       "      <td>0.730141</td>\n",
       "      <td>2.777848</td>\n",
       "      <td>267.776077</td>\n",
       "      <td>1.400436</td>\n",
       "      <td>10.033540</td>\n",
       "      <td>652.584121</td>\n",
       "      <td>1.717452</td>\n",
       "      <td>3786.695111</td>\n",
       "      <td>16.189367</td>\n",
       "      <td>13.453584</td>\n",
       "      <td>11.749139</td>\n",
       "      <td>29823.198969</td>\n",
       "      <td>27573.004511</td>\n",
       "    </tr>\n",
       "    <tr>\n",
       "      <th>min</th>\n",
       "      <td>1.000000</td>\n",
       "      <td>0.850000</td>\n",
       "      <td>0.000000</td>\n",
       "      <td>1.000000</td>\n",
       "      <td>0.000000</td>\n",
       "      <td>0.000000</td>\n",
       "      <td>1.000000</td>\n",
       "      <td>5.000000</td>\n",
       "      <td>4.000000</td>\n",
       "      <td>1.000000</td>\n",
       "      <td>0.000000</td>\n",
       "      <td>7.000000</td>\n",
       "      <td>2.000000</td>\n",
       "      <td>6.000000</td>\n",
       "      <td>1003.000000</td>\n",
       "      <td>1001.000000</td>\n",
       "    </tr>\n",
       "    <tr>\n",
       "      <th>25%</th>\n",
       "      <td>1.000000</td>\n",
       "      <td>39.900000</td>\n",
       "      <td>13.080000</td>\n",
       "      <td>1.000000</td>\n",
       "      <td>1.000000</td>\n",
       "      <td>60.850000</td>\n",
       "      <td>4.000000</td>\n",
       "      <td>42.000000</td>\n",
       "      <td>346.000000</td>\n",
       "      <td>1.000000</td>\n",
       "      <td>300.000000</td>\n",
       "      <td>18.000000</td>\n",
       "      <td>8.000000</td>\n",
       "      <td>15.000000</td>\n",
       "      <td>11250.000000</td>\n",
       "      <td>6429.000000</td>\n",
       "    </tr>\n",
       "    <tr>\n",
       "      <th>50%</th>\n",
       "      <td>1.000000</td>\n",
       "      <td>74.900000</td>\n",
       "      <td>16.280000</td>\n",
       "      <td>1.000000</td>\n",
       "      <td>2.000000</td>\n",
       "      <td>108.160000</td>\n",
       "      <td>5.000000</td>\n",
       "      <td>52.000000</td>\n",
       "      <td>600.000000</td>\n",
       "      <td>1.000000</td>\n",
       "      <td>700.000000</td>\n",
       "      <td>25.000000</td>\n",
       "      <td>13.000000</td>\n",
       "      <td>20.000000</td>\n",
       "      <td>24240.000000</td>\n",
       "      <td>13660.000000</td>\n",
       "    </tr>\n",
       "    <tr>\n",
       "      <th>75%</th>\n",
       "      <td>1.000000</td>\n",
       "      <td>134.900000</td>\n",
       "      <td>21.180000</td>\n",
       "      <td>1.000000</td>\n",
       "      <td>4.000000</td>\n",
       "      <td>189.240000</td>\n",
       "      <td>5.000000</td>\n",
       "      <td>57.000000</td>\n",
       "      <td>983.000000</td>\n",
       "      <td>3.000000</td>\n",
       "      <td>1800.000000</td>\n",
       "      <td>38.000000</td>\n",
       "      <td>20.000000</td>\n",
       "      <td>30.000000</td>\n",
       "      <td>58475.000000</td>\n",
       "      <td>27972.000000</td>\n",
       "    </tr>\n",
       "    <tr>\n",
       "      <th>max</th>\n",
       "      <td>21.000000</td>\n",
       "      <td>6735.000000</td>\n",
       "      <td>409.680000</td>\n",
       "      <td>29.000000</td>\n",
       "      <td>24.000000</td>\n",
       "      <td>13664.080000</td>\n",
       "      <td>5.000000</td>\n",
       "      <td>76.000000</td>\n",
       "      <td>3992.000000</td>\n",
       "      <td>20.000000</td>\n",
       "      <td>40425.000000</td>\n",
       "      <td>105.000000</td>\n",
       "      <td>105.000000</td>\n",
       "      <td>118.000000</td>\n",
       "      <td>99990.000000</td>\n",
       "      <td>99730.000000</td>\n",
       "    </tr>\n",
       "  </tbody>\n",
       "</table>\n",
       "</div>"
      ],
      "text/plain": [
       "       order_item_id          price  freight_value  payment_sequential  \\\n",
       "count  118310.000000  118310.000000  118310.000000       119140.000000   \n",
       "mean        1.196543     120.646603      20.032387            1.094737   \n",
       "std         0.699489     184.109691      15.836850            0.730141   \n",
       "min         1.000000       0.850000       0.000000            1.000000   \n",
       "25%         1.000000      39.900000      13.080000            1.000000   \n",
       "50%         1.000000      74.900000      16.280000            1.000000   \n",
       "75%         1.000000     134.900000      21.180000            1.000000   \n",
       "max        21.000000    6735.000000     409.680000           29.000000   \n",
       "\n",
       "       payment_installments  payment_value   review_score  \\\n",
       "count         119140.000000  119140.000000  118146.000000   \n",
       "mean               2.941246     172.735135       4.015582   \n",
       "std                2.777848     267.776077       1.400436   \n",
       "min                0.000000       0.000000       1.000000   \n",
       "25%                1.000000      60.850000       4.000000   \n",
       "50%                2.000000     108.160000       5.000000   \n",
       "75%                4.000000     189.240000       5.000000   \n",
       "max               24.000000   13664.080000       5.000000   \n",
       "\n",
       "       product_name_lenght  product_description_lenght  product_photos_qty  \\\n",
       "count        116601.000000               116601.000000       116601.000000   \n",
       "mean             48.767498                  785.967822            2.205161   \n",
       "std              10.033540                  652.584121            1.717452   \n",
       "min               5.000000                    4.000000            1.000000   \n",
       "25%              42.000000                  346.000000            1.000000   \n",
       "50%              52.000000                  600.000000            1.000000   \n",
       "75%              57.000000                  983.000000            3.000000   \n",
       "max              76.000000                 3992.000000           20.000000   \n",
       "\n",
       "       product_weight_g  product_length_cm  product_height_cm  \\\n",
       "count     118290.000000      118290.000000      118290.000000   \n",
       "mean        2112.250740          30.265145          16.619706   \n",
       "std         3786.695111          16.189367          13.453584   \n",
       "min            0.000000           7.000000           2.000000   \n",
       "25%          300.000000          18.000000           8.000000   \n",
       "50%          700.000000          25.000000          13.000000   \n",
       "75%         1800.000000          38.000000          20.000000   \n",
       "max        40425.000000         105.000000         105.000000   \n",
       "\n",
       "       product_width_cm  customer_zip_code_prefix  seller_zip_code_prefix  \n",
       "count     118290.000000             119143.000000           118310.000000  \n",
       "mean          23.074799              35033.451298            24442.410413  \n",
       "std           11.749139              29823.198969            27573.004511  \n",
       "min            6.000000               1003.000000             1001.000000  \n",
       "25%           15.000000              11250.000000             6429.000000  \n",
       "50%           20.000000              24240.000000            13660.000000  \n",
       "75%           30.000000              58475.000000            27972.000000  \n",
       "max          118.000000              99990.000000            99730.000000  "
      ]
     },
     "execution_count": 5,
     "metadata": {},
     "output_type": "execute_result"
    }
   ],
   "source": [
    "# Melihat informasi dari dataframe\n",
    "ecommerce_data.info()\n",
    "ecommerce_data.describe()"
   ]
  },
  {
   "cell_type": "code",
   "execution_count": 6,
   "id": "3e71d28c",
   "metadata": {},
   "outputs": [
    {
     "data": {
      "text/plain": [
       "order_id                              0\n",
       "customer_id                           0\n",
       "order_status                          0\n",
       "order_purchase_timestamp              0\n",
       "order_approved_at                   177\n",
       "order_delivered_carrier_date       2086\n",
       "order_delivered_customer_date      3421\n",
       "order_estimated_delivery_date         0\n",
       "order_item_id                       833\n",
       "product_id                          833\n",
       "seller_id                           833\n",
       "shipping_limit_date                 833\n",
       "price                               833\n",
       "freight_value                       833\n",
       "payment_sequential                    3\n",
       "payment_type                          3\n",
       "payment_installments                  3\n",
       "payment_value                         3\n",
       "review_id                           997\n",
       "review_score                        997\n",
       "review_comment_title             105154\n",
       "review_comment_message            68898\n",
       "review_creation_date                997\n",
       "review_answer_timestamp             997\n",
       "product_category_name              2542\n",
       "product_name_lenght                2542\n",
       "product_description_lenght         2542\n",
       "product_photos_qty                 2542\n",
       "product_weight_g                    853\n",
       "product_length_cm                   853\n",
       "product_height_cm                   853\n",
       "product_width_cm                    853\n",
       "customer_unique_id                    0\n",
       "customer_zip_code_prefix              0\n",
       "customer_city                         0\n",
       "customer_state                        0\n",
       "seller_zip_code_prefix              833\n",
       "seller_city                         833\n",
       "seller_state                        833\n",
       "dtype: int64"
      ]
     },
     "execution_count": 6,
     "metadata": {},
     "output_type": "execute_result"
    }
   ],
   "source": [
    "# Melihat apakah ada data yang hilang (missing values) pada dataframe\n",
    "ecommerce_data.isna().sum()"
   ]
  },
  {
   "cell_type": "code",
   "execution_count": 8,
   "id": "f7164248",
   "metadata": {},
   "outputs": [
    {
     "data": {
      "text/plain": [
       "np.int64(0)"
      ]
     },
     "execution_count": 8,
     "metadata": {},
     "output_type": "execute_result"
    }
   ],
   "source": [
    "# Melihat duplikat data pada dataframe\n",
    "ecommerce_data.duplicated().sum()"
   ]
  },
  {
   "cell_type": "markdown",
   "id": "a697a08b",
   "metadata": {},
   "source": [
    "Insight:\n",
    "   - Setelah menggabungkan seluruh tabel menjadi 1 dataframe melakukan pengecekan masalah yang umum dijumpai\n",
    "   - Ditemukan banyaknya missing value/NULL pada dataframe ecommerce_data\n",
    "   - Ditemukan beberapa duplicate data pada dataframe ecommerce_data"
   ]
  },
  {
   "cell_type": "markdown",
   "id": "56a3c1fa",
   "metadata": {},
   "source": [
    "### Cleaning Data"
   ]
  },
  {
   "cell_type": "code",
   "execution_count": 9,
   "id": "f1a55d73",
   "metadata": {},
   "outputs": [],
   "source": [
    "# Menghapus duplikat data pada dataframe\n",
    "ecommerce_data.drop_duplicates(inplace=True)"
   ]
  },
  {
   "cell_type": "code",
   "execution_count": 10,
   "id": "c42a9caf",
   "metadata": {},
   "outputs": [
    {
     "name": "stdout",
     "output_type": "stream",
     "text": [
      "review_comment_title             88.258647\n",
      "review_comment_message           57.827988\n",
      "order_delivered_customer_date     2.871339\n",
      "product_category_name             2.133571\n",
      "product_name_lenght               2.133571\n",
      "product_description_lenght        2.133571\n",
      "product_photos_qty                2.133571\n",
      "order_delivered_carrier_date      1.750837\n",
      "review_creation_date              0.836810\n",
      "review_score                      0.836810\n",
      "review_id                         0.836810\n",
      "review_answer_timestamp           0.836810\n",
      "product_height_cm                 0.715946\n",
      "product_weight_g                  0.715946\n",
      "product_length_cm                 0.715946\n",
      "product_width_cm                  0.715946\n",
      "product_id                        0.699160\n",
      "seller_city                       0.699160\n",
      "seller_zip_code_prefix            0.699160\n",
      "freight_value                     0.699160\n",
      "seller_state                      0.699160\n",
      "seller_id                         0.699160\n",
      "order_item_id                     0.699160\n",
      "shipping_limit_date               0.699160\n",
      "price                             0.699160\n",
      "order_approved_at                 0.148561\n",
      "payment_sequential                0.002518\n",
      "payment_value                     0.002518\n",
      "payment_installments              0.002518\n",
      "payment_type                      0.002518\n",
      "order_status                      0.000000\n",
      "order_purchase_timestamp          0.000000\n",
      "order_id                          0.000000\n",
      "customer_id                       0.000000\n",
      "order_estimated_delivery_date     0.000000\n",
      "customer_city                     0.000000\n",
      "customer_zip_code_prefix          0.000000\n",
      "customer_unique_id                0.000000\n",
      "customer_state                    0.000000\n",
      "dtype: float64\n"
     ]
    }
   ],
   "source": [
    "# Menghitung rasio data yang hilang (missing ratio) pada dataframe\n",
    "missing_ratio = ecommerce_data.isna().mean() * 100  # percentage format\n",
    "print(missing_ratio.sort_values(ascending=False))"
   ]
  },
  {
   "cell_type": "code",
   "execution_count": 11,
   "id": "a801e4a7",
   "metadata": {},
   "outputs": [
    {
     "name": "stdout",
     "output_type": "stream",
     "text": [
      "order_id                              0\n",
      "customer_id                           0\n",
      "order_status                          0\n",
      "order_purchase_timestamp              0\n",
      "order_approved_at                     0\n",
      "order_delivered_carrier_date          1\n",
      "order_delivered_customer_date         0\n",
      "order_estimated_delivery_date         0\n",
      "order_item_id                         0\n",
      "product_id                            0\n",
      "seller_id                             0\n",
      "shipping_limit_date                   0\n",
      "price                                 0\n",
      "freight_value                         0\n",
      "payment_sequential                    0\n",
      "payment_type                          0\n",
      "payment_installments                  0\n",
      "payment_value                         0\n",
      "review_id                           849\n",
      "review_score                        849\n",
      "review_comment_title             100564\n",
      "review_comment_message            66697\n",
      "review_creation_date                849\n",
      "review_answer_timestamp             849\n",
      "product_category_name                 0\n",
      "product_name_lenght                   0\n",
      "product_description_lenght            0\n",
      "product_photos_qty                    0\n",
      "product_weight_g                      0\n",
      "product_length_cm                     0\n",
      "product_height_cm                     0\n",
      "product_width_cm                      0\n",
      "customer_unique_id                    0\n",
      "customer_zip_code_prefix              0\n",
      "customer_city                         0\n",
      "customer_state                        0\n",
      "seller_zip_code_prefix                0\n",
      "seller_city                           0\n",
      "seller_state                          0\n",
      "dtype: int64\n"
     ]
    }
   ],
   "source": [
    "# Menghapus NULL values dari beberapa kolom yang sekiranya dapat digunakan untuk analisis\n",
    "ecommerce_data.dropna(subset= [\n",
    "    'order_approved_at',\n",
    "    'order_delivered_customer_date',\n",
    "    'order_item_id',\n",
    "    'product_id',\n",
    "    'seller_id',\n",
    "    'shipping_limit_date',\n",
    "    'price',\n",
    "    'freight_value',\n",
    "    'payment_sequential',\n",
    "    'payment_type',\n",
    "    'payment_installments',\n",
    "    'payment_value',\n",
    "    'product_category_name',\n",
    "    'product_name_lenght',\n",
    "    'product_description_lenght',\n",
    "    'product_photos_qty',\n",
    "    'product_weight_g',\n",
    "    'product_length_cm',\n",
    "    'product_height_cm',\n",
    "    'product_width_cm'\n",
    "], inplace=True)\n",
    "ecommerce_data.reset_index(drop=True, inplace=True)\n",
    "\n",
    "print(ecommerce_data.isnull().sum())"
   ]
  },
  {
   "cell_type": "markdown",
   "id": "c9032234",
   "metadata": {},
   "source": [
    "Insight:\n",
    "   - Menghapus duplicate_values pada dataframe\n",
    "   - Menghitung persentase untuk menentukan missing values yang akan dibersihkan\n",
    "   - Menghapus missing values sesuai keperluan analisis"
   ]
  },
  {
   "cell_type": "markdown",
   "id": "73e5e82f",
   "metadata": {},
   "source": [
    "# Exploratory Data Analysis (EDA)"
   ]
  },
  {
   "cell_type": "markdown",
   "id": "eb6efdb2",
   "metadata": {},
   "source": [
    "### Explore"
   ]
  },
  {
   "cell_type": "code",
   "execution_count": 12,
   "id": "97447b35",
   "metadata": {},
   "outputs": [
    {
     "name": "stdout",
     "output_type": "stream",
     "text": [
      "customer_city\n",
      "sao paulo         1933844.12\n",
      "rio de janeiro     986652.21\n",
      "belo horizonte     354842.89\n",
      "brasilia           305588.55\n",
      "curitiba           211495.90\n",
      "campinas           192011.50\n",
      "salvador           185548.46\n",
      "porto alegre       184550.11\n",
      "guarulhos          148530.42\n",
      "niteroi            130371.81\n",
      "Name: price, dtype: float64\n"
     ]
    }
   ],
   "source": [
    "# Menentukan 10 kota dengan penjualan terbanyak (2016-2018)\n",
    "top10_cities = ecommerce_data.groupby('customer_city')['price'].sum().sort_values(ascending=False).head(10)\n",
    "print(top10_cities)"
   ]
  },
  {
   "cell_type": "code",
   "execution_count": 13,
   "id": "3ed90f00",
   "metadata": {},
   "outputs": [
    {
     "name": "stdout",
     "output_type": "stream",
     "text": [
      "product_category_name\n",
      "beleza_saude    660848.41\n",
      "Name: profit, dtype: float64\n"
     ]
    },
    {
     "name": "stderr",
     "output_type": "stream",
     "text": [
      "C:\\Users\\MyBook Hype AMD\\AppData\\Local\\Temp\\ipykernel_13148\\3025873443.py:4: SettingWithCopyWarning: \n",
      "A value is trying to be set on a copy of a slice from a DataFrame.\n",
      "Try using .loc[row_indexer,col_indexer] = value instead\n",
      "\n",
      "See the caveats in the documentation: https://pandas.pydata.org/pandas-docs/stable/user_guide/indexing.html#returning-a-view-versus-a-copy\n",
      "  ecommerce_2018['profit'] = ecommerce_2018['price'] - ecommerce_2018['freight_value']\n"
     ]
    }
   ],
   "source": [
    "# Produk mana yang paling banyak terjual pada tahun 2018?\n",
    "ecommerce_data['order_approved_at'] = pd.to_datetime(ecommerce_data['order_approved_at'])\n",
    "ecommerce_2018 = ecommerce_data[ecommerce_data['order_approved_at'].dt.year == 2018]\n",
    "ecommerce_2018['profit'] = ecommerce_2018['price'] - ecommerce_2018['freight_value']\n",
    "profitable = ecommerce_2018.groupby('product_category_name')['profit'].sum().sort_values(ascending=False).head(1)\n",
    "print(profitable)"
   ]
  },
  {
   "cell_type": "code",
   "execution_count": 17,
   "id": "fe8fd67c",
   "metadata": {},
   "outputs": [
    {
     "name": "stdout",
     "output_type": "stream",
     "text": [
      "    order_year  order_month       price  mom_growth_percent\n",
      "0         2017            1   112803.01                 NaN\n",
      "1         2017            2   238924.10          111.806493\n",
      "2         2017            3   372973.80           56.105558\n",
      "3         2017            4   348701.97           -6.507650\n",
      "4         2017            5   522253.89           49.770846\n",
      "5         2017            6   444283.63          -14.929570\n",
      "6         2017            7   509355.72           14.646520\n",
      "7         2017            8   579504.80           13.772120\n",
      "8         2017            9   629608.84            8.646009\n",
      "9         2017           10   666995.02            5.938001\n",
      "10        2017           11  1001710.95           50.182673\n",
      "11        2017           12   761193.65          -24.010649\n"
     ]
    }
   ],
   "source": [
    "# Growth per bulan pada tahun 2017\n",
    "ecommerce_data['order_approved_at'] = pd.to_datetime(ecommerce_data['order_approved_at'])\n",
    "ecommerce_data['order_year'] = ecommerce_data['order_approved_at'].dt.year\n",
    "ecommerce_data['order_month'] = ecommerce_data['order_approved_at'].dt.month\n",
    "ecommerce_2017 = ecommerce_data[ecommerce_data['order_year'] == 2017]\n",
    "\n",
    "penjualan_bulanan = ecommerce_2017.groupby(['order_year', 'order_month'])['price'].sum().reset_index()\n",
    "penjualan_bulanan = penjualan_bulanan.sort_values(['order_year', 'order_month'])\n",
    "penjualan_bulanan['mom_growth_percent'] = penjualan_bulanan['price'].pct_change() * 100\n",
    "print(penjualan_bulanan)"
   ]
  },
  {
   "cell_type": "markdown",
   "id": "58446a03",
   "metadata": {},
   "source": [
    "Insight:\n",
    "   - Setelah dilakukan eksplorasi pada e-commerce datasets, telah ditemukan 10 kota dengan penjualan tertinggi  menggunakan .groupby('customer_city') dengan ['price']\n",
    "   - Kemudian, ditemukan dari seluruh produk mana yang paling diminati pada tahun 2018 dengan rumus mengurangi ['price'] dengan ['freight_value'] dan .groupby('product_category_name')['profit']\n",
    "   - Growth MoM pada tahun 2017 menggunakan .groupby(['order_year','order_month'])['price'] dan menghitung persentasenya menggunakan ['price'].pct_change()*100"
   ]
  },
  {
   "cell_type": "markdown",
   "id": "d2da2db2",
   "metadata": {},
   "source": [
    "# Visualization and Explanatory Analysis"
   ]
  },
  {
   "cell_type": "markdown",
   "id": "55c12ddb",
   "metadata": {},
   "source": [
    "### Pertanyaan 1"
   ]
  },
  {
   "cell_type": "code",
   "execution_count": 18,
   "id": "a440ab56",
   "metadata": {},
   "outputs": [
    {
     "name": "stderr",
     "output_type": "stream",
     "text": [
      "C:\\Users\\MyBook Hype AMD\\AppData\\Local\\Temp\\ipykernel_13148\\2091613795.py:6: FutureWarning: \n",
      "\n",
      "Passing `palette` without assigning `hue` is deprecated and will be removed in v0.14.0. Assign the `y` variable to `hue` and set `legend=False` for the same effect.\n",
      "\n",
      "  sns.barplot(x=top10_cities.values, y=top10_cities.index, palette=colors)\n"
     ]
    },
    {
     "data": {
      "image/png": "[encoded data removed]",
      "text/plain": [
       "<Figure size 1000x600 with 1 Axes>"
      ]
     },
     "metadata": {},
     "output_type": "display_data"
    }
   ],
   "source": [
    "top10_cities = ecommerce_data.groupby('customer_city')['price'].sum().sort_values(ascending=False).head(10)\n",
    "\n",
    "colors = ['#FF5733'] + ['#3498DB'] * (len(top10_cities) - 1)\n",
    "\n",
    "plt.figure(figsize=(10, 6))\n",
    "sns.barplot(x=top10_cities.values, y=top10_cities.index, palette=colors)\n",
    "plt.title('10 Kota Dengan Penjualan Tertinggi (2016-2018)', fontsize=14)\n",
    "plt.xlabel('Total Penjualan (Million(s))')\n",
    "plt.ylabel('Kota')\n",
    "plt.show()"
   ]
  },
  {
   "cell_type": "markdown",
   "id": "d0926593",
   "metadata": {},
   "source": [
    "### Pertanyaan 2"
   ]
  },
  {
   "cell_type": "code",
   "execution_count": 52,
   "id": "6d97bbd3",
   "metadata": {},
   "outputs": [
    {
     "name": "stderr",
     "output_type": "stream",
     "text": [
      "C:\\Users\\MyBook Hype AMD\\AppData\\Local\\Temp\\ipykernel_7592\\2135981019.py:3: SettingWithCopyWarning: \n",
      "A value is trying to be set on a copy of a slice from a DataFrame.\n",
      "Try using .loc[row_indexer,col_indexer] = value instead\n",
      "\n",
      "See the caveats in the documentation: https://pandas.pydata.org/pandas-docs/stable/user_guide/indexing.html#returning-a-view-versus-a-copy\n",
      "  ecommerce_2018['profit'] = ecommerce_2018['price'] - ecommerce_2018['freight_value']\n",
      "C:\\Users\\MyBook Hype AMD\\AppData\\Local\\Temp\\ipykernel_7592\\2135981019.py:9: FutureWarning: \n",
      "\n",
      "Passing `palette` without assigning `hue` is deprecated and will be removed in v0.14.0. Assign the `x` variable to `hue` and set `legend=False` for the same effect.\n",
      "\n",
      "  sns.barplot(x=most_profitable.index.astype(str), y=most_profitable.values, palette=colors)\n"
     ]
    },
    {
     "data": {
      "image/png": "[encoded data removed]",
      "text/plain": [
       "<Figure size 1200x600 with 1 Axes>"
      ]
     },
     "metadata": {},
     "output_type": "display_data"
    }
   ],
   "source": [
    "ecommerce_data['order_approved_at'] = pd.to_datetime(ecommerce_data['order_approved_at'])\n",
    "ecommerce_2018 = ecommerce_data[ecommerce_data['order_approved_at'].dt.year == 2018]\n",
    "ecommerce_2018['profit'] = ecommerce_2018['price'] - ecommerce_2018['freight_value']\n",
    "most_profitable = ecommerce_2018.groupby('product_category_name')['profit'].sum().sort_values(ascending=False).head(5)\n",
    "\n",
    "colors = ['#FF5733'] + ['#3498DB'] * (len(most_profitable) - 1)\n",
    "\n",
    "plt.figure(figsize=(12, 6))\n",
    "sns.barplot(x=most_profitable.index.astype(str), y=most_profitable.values, palette=colors)\n",
    "plt.title('Top 5 Penjualan Produk (2018)', fontsize=14)\n",
    "plt.xlabel('Nama Produk')\n",
    "plt.ylabel('Total Pendapatan (Million(s))')\n",
    "plt.xticks(rotation=45)\n",
    "plt.show()"
   ]
  },
  {
   "cell_type": "markdown",
   "id": "0c09cd0d",
   "metadata": {},
   "source": [
    "### Pertanyaan 3"
   ]
  },
  {
   "cell_type": "code",
   "execution_count": null,
   "id": "30964c3d",
   "metadata": {},
   "outputs": [
    {
     "name": "stderr",
     "output_type": "stream",
     "text": [
      "C:\\Users\\MyBook Hype AMD\\AppData\\Local\\Temp\\ipykernel_7592\\277577777.py:13: FutureWarning: \n",
      "\n",
      "Passing `palette` without assigning `hue` is deprecated and will be removed in v0.14.0. Assign the `x` variable to `hue` and set `legend=False` for the same effect.\n",
      "\n",
      "  sns.barplot(x=nama_bulan, y=penjualan_bulanan['mom_growth_percent'], palette=colors)\n"
     ]
    },
    {
     "data": {
      "image/png": "[encoded data removed]",
      "text/plain": [
       "<Figure size 1200x600 with 1 Axes>"
      ]
     },
     "metadata": {},
     "output_type": "display_data"
    }
   ],
   "source": [
    "ecommerce_2017 = ecommerce_data[ecommerce_data['order_year'] == 2017]\n",
    "penjualan_bulanan = ecommerce_2017.groupby(['order_year', 'order_month'])['price'].sum().reset_index()\n",
    "penjualan_bulanan = penjualan_bulanan.sort_values(['order_year', 'order_month'])\n",
    "penjualan_bulanan['mom_growth_percent'] = penjualan_bulanan['price'].pct_change() * 100\n",
    "\n",
    "nama_bulan = [calendar.month_name[m] for m in penjualan_bulanan['order_month']]\n",
    "\n",
    "colors = ['#FF5733' if growth > 0 else '#3498DB' for growth in penjualan_bulanan['mom_growth_percent']]\n",
    "\n",
    "plt.figure(figsize=(12, 6))\n",
    "sns.barplot(x=nama_bulan, y=penjualan_bulanan['mom_growth_percent'], palette=colors)\n",
    "plt.title('Month-on-Month Sales Growth (%) - 2017', fontsize=14)\n",
    "plt.xlabel('Bulan')\n",
    "plt.ylabel('MoM Growth (%)')\n",
    "plt.xticks(rotation=45)\n",
    "plt.axhline(0, color='black', linestyle='--', linewidth=1)\n",
    "plt.show()"
   ]
  },
  {
   "cell_type": "markdown",
   "id": "165ba7e2",
   "metadata": {},
   "source": [
    "# Conclusion"
   ]
  },
  {
   "cell_type": "markdown",
   "id": "bbf80b78",
   "metadata": {},
   "source": [
    "- Untuk 10 kota dengan penjualan tertinggi yang ada didalam e-commerce dataset, ditemukan bahwa sao paulo merupakan pasar yang paling profitable dalam penjualan seluruh produk diangka R$1,933,844 (2016-2018).\n",
    "- Untuk produk dengan penjualan terbanyak pada tahun 2018 yang paling profitable ada diangka R$660,848.\n",
    "- Perhitungan growth% penjualan MoM sepanjang tahun 2017 ditemukan growth tertinggi ada pada bulan februari dengan persentasi mencapai 112% growth."
   ]
  },
  {
   "cell_type": "code",
   "execution_count": 20,
   "id": "884cf018",
   "metadata": {},
   "outputs": [],
   "source": [
    "# Menyimpan file yang akand digunakan untuk dimasukan ke dashboard Streamlit\n",
    "ecommerce_data.to_csv(\"ecommerce_cleaned.csv\", index=False)"
   ]
  }
 ],
 "metadata": {
  "kernelspec": {
   "display_name": ".venv",
   "language": "python",
   "name": "python3"
  },
  "language_info": {
   "codemirror_mode": {
    "name": "ipython",
    "version": 3
   },
   "file_extension": ".py",
   "mimetype": "text/x-python",
   "name": "python",
   "nbconvert_exporter": "python",
   "pygments_lexer": "ipython3",
   "version": "3.12.10"
  }
 },
 "nbformat": 4,
 "nbformat_minor": 5
}
